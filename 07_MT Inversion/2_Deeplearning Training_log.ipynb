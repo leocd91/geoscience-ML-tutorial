{
 "cells": [
  {
   "cell_type": "markdown",
   "id": "71978ec9-3100-41cf-89da-1f2befe27b3d",
   "metadata": {},
   "source": [
    "# Deep Learning Inversion - MT Case\n",
    "## Part 2 - Deep Learning Training\n",
    "#### Leo Dinendra - https://github.com/leocd91"
   ]
  },
  {
   "cell_type": "markdown",
   "id": "2b8b198d-99a2-43ba-a82b-1b957e9b1787",
   "metadata": {},
   "source": [
    "## Importing Packages"
   ]
  },
  {
   "cell_type": "code",
   "execution_count": 1,
   "id": "a609fc02-531a-4a2b-ae6d-31e9ab2f92e5",
   "metadata": {},
   "outputs": [],
   "source": [
    "import torch\n",
    "import torch.nn as nn\n",
    "from torchvision import models\n",
    "from torch.nn.functional import relu\n",
    "import torch.optim as optim\n",
    "import torch.nn.functional as F\n",
    "from torch.utils.data import Dataset, DataLoader, TensorDataset  \n",
    "import torch.utils.data as data_utils\n",
    "from torch.optim.lr_scheduler import ReduceLROnPlateau\n",
    "import os\n",
    "from pytorch_msssim import MS_SSIM, ms_ssim, SSIM, ssim #!pip install pytorch-msssim\n",
    "from torchinfo import summary #!pip install torchinfo\n",
    "import numpy as np\n",
    "import matplotlib.pyplot as plt\n",
    "from tqdm import tqdm"
   ]
  },
  {
   "cell_type": "code",
   "execution_count": 2,
   "id": "7097d377-1c2e-4a3e-8908-df893e748122",
   "metadata": {},
   "outputs": [],
   "source": [
    "import random"
   ]
  },
  {
   "cell_type": "markdown",
   "id": "48a5b5a5-e31e-4239-8952-3f692f18a920",
   "metadata": {},
   "source": [
    "## Training Parameter"
   ]
  },
  {
   "cell_type": "code",
   "execution_count": 3,
   "id": "8fff90c7-1afc-4bd7-bcd1-9d59c9539452",
   "metadata": {},
   "outputs": [],
   "source": [
    "batch_size = 16\n",
    "n_epoch = 10\n",
    "learning_rate = 1e-3"
   ]
  },
  {
   "cell_type": "markdown",
   "id": "d615b279-edfe-4a2e-ba2a-90a2fda7f39c",
   "metadata": {
    "jp-MarkdownHeadingCollapsed": true,
    "tags": []
   },
   "source": [
    "## Dataset Loading"
   ]
  },
  {
   "cell_type": "code",
   "execution_count": 4,
   "id": "6c78b47c-7762-4a72-9902-5ccfda018f3b",
   "metadata": {},
   "outputs": [],
   "source": [
    "dataset_loc = './dataset'"
   ]
  },
  {
   "cell_type": "code",
   "execution_count": 5,
   "id": "a42405b8-5ba9-45c5-8d57-1834fa595887",
   "metadata": {},
   "outputs": [],
   "source": [
    "# Get a list of all files in the folder\n",
    "all_files = os.listdir(dataset_loc)\n",
    "\n",
    "# Filter files containing the string 'data' in their filename\n",
    "filtered_files = [file for file in all_files if 'model' in file]"
   ]
  },
  {
   "cell_type": "code",
   "execution_count": 6,
   "id": "f7f9c812-bce6-44ba-a8bf-a44a2ae2e074",
   "metadata": {},
   "outputs": [
    {
     "data": {
      "text/plain": [
       "1000"
      ]
     },
     "execution_count": 6,
     "metadata": {},
     "output_type": "execute_result"
    }
   ],
   "source": [
    "#check how many data we got\n",
    "len(filtered_files)"
   ]
  },
  {
   "cell_type": "markdown",
   "id": "699442ea-a3ab-45b9-ba49-eabc90e1bc29",
   "metadata": {},
   "source": [
    "### Making Dataset Class"
   ]
  },
  {
   "cell_type": "code",
   "execution_count": 12,
   "id": "d5811d5a-83f4-4265-9d97-4c9f4fedae53",
   "metadata": {},
   "outputs": [],
   "source": [
    "class MTDataset(Dataset):\n",
    "    def __init__(self, dataset_list, test=False, log_tranf=False): #test flag in case I want to augment the training set later\n",
    "        self.dataset_list = dataset_list\n",
    "        self.test = test\n",
    "        self.log_tranf = log_tranf\n",
    "    def __len__(self):\n",
    "        return len(self.dataset_list)\n",
    "\n",
    "    def __getitem__(self, idx):\n",
    "        fname = dataset_loc + '//' + self.dataset_list[idx]\n",
    "        \n",
    "        #edit following values for normalizing data\n",
    "        model_min_value = 0\n",
    "        model_max_value = 1000\n",
    "        phase_min_value = -180\n",
    "        phase_max_value = 180\n",
    "        apprho_min_value = 0\n",
    "        apprho_max_value = 100\n",
    "        \n",
    "        rhoxy = torch.from_numpy(np.load(fname.replace('model','rhoxy'))).unsqueeze(0)\n",
    "        rhoyx = torch.from_numpy(np.load(fname.replace('model','rhoyx'))).unsqueeze(0)\n",
    "        phasexy = torch.from_numpy(np.load(fname.replace('model','phsxy'))).unsqueeze(0)\n",
    "        phaseyx = torch.from_numpy(np.load(fname.replace('model','phsyx'))).unsqueeze(0)\n",
    "        \n",
    "        if self.log_tranf:\n",
    "            rhoxy = torch.log(rhoxy)\n",
    "            rhoyx = torch.log(rhoyx)\n",
    "            phasexy = (phasexy - phase_min_value) / (phase_max_value - phase_min_value)\n",
    "            phaseyx = (phaseyx - phase_min_value) / (phase_max_value - phase_min_value)\n",
    "        \n",
    "        else:\n",
    "            rhoxy = (rhoxy - apprho_min_value) / (apprho_max_value - apprho_min_value)\n",
    "            rhoyx = (rhoyx - apprho_min_value) / (apprho_max_value - apprho_min_value)\n",
    "            phasexy = (phasexy - phase_min_value) / (phase_max_value - phase_min_value)\n",
    "            phaseyx = (phaseyx - phase_min_value) / (phase_max_value - phase_min_value)\n",
    "        \n",
    "        data = torch.vstack([rhoxy, rhoyx, phasexy, phaseyx]).float()\n",
    "        data = F.interpolate(data.unsqueeze(0), size=(64, 64), mode='bilinear', align_corners=False).squeeze() #resize data & label to multiply of 8 for an easier way to modify model architecture later\n",
    "        label = torch.from_numpy(np.load(fname)).float()\n",
    "        \n",
    "        if self.log_tranf:\n",
    "            label = torch.log(label)\n",
    "        else:\n",
    "            label = (label - model_min_value) / (model_max_value - model_min_value)\n",
    "        \n",
    "        label = F.interpolate(label.unsqueeze(0).unsqueeze(0), size=(64, 64), mode='bilinear', align_corners=False).squeeze()\n",
    "        return data, label"
   ]
  },
  {
   "cell_type": "markdown",
   "id": "83459530-daea-451f-8260-1704ba37ee47",
   "metadata": {},
   "source": [
    "### Making Dataloader, Check Data"
   ]
  },
  {
   "cell_type": "code",
   "execution_count": 13,
   "id": "d84a32ba-4007-42b0-8a0c-6b407d3f56d9",
   "metadata": {},
   "outputs": [],
   "source": [
    "random.shuffle(filtered_files)"
   ]
  },
  {
   "cell_type": "code",
   "execution_count": 14,
   "id": "be59b7a3-d90a-4cef-85d3-5adcb726b161",
   "metadata": {},
   "outputs": [],
   "source": [
    "train_data = MTDataset(filtered_files[:850], log_tranf=True) # split 85/15 train test, logarithmic transform due to nature of the MT data\n",
    "test_data = MTDataset(filtered_files[850:], log_tranf=True)\n",
    "trainloader = DataLoader(train_data, batch_size = batch_size, shuffle=True)\n",
    "testloader = DataLoader(train_data, batch_size = batch_size, shuffle=False)"
   ]
  },
  {
   "cell_type": "code",
   "execution_count": 15,
   "id": "f09b529b-a5e4-4938-96df-2d8e5f6f648d",
   "metadata": {},
   "outputs": [],
   "source": [
    "#testing dataset\n",
    "testdata, testlabel = train_data[0]"
   ]
  },
  {
   "cell_type": "code",
   "execution_count": 16,
   "id": "56d3b913-db26-4a49-b6d0-2e6680bae5fc",
   "metadata": {},
   "outputs": [
    {
     "data": {
      "text/plain": [
       "torch.Size([4, 64, 64])"
      ]
     },
     "execution_count": 16,
     "metadata": {},
     "output_type": "execute_result"
    }
   ],
   "source": [
    "testdata.shape"
   ]
  },
  {
   "cell_type": "code",
   "execution_count": 17,
   "id": "368b8db9-c11e-41e7-b4b2-865dab10bdd4",
   "metadata": {},
   "outputs": [
    {
     "data": {
      "text/plain": [
       "torch.Size([64, 64])"
      ]
     },
     "execution_count": 17,
     "metadata": {},
     "output_type": "execute_result"
    }
   ],
   "source": [
    "testlabel.shape"
   ]
  },
  {
   "cell_type": "code",
   "execution_count": 18,
   "id": "b598cc11-3e50-4b2c-bd13-9eb2ad7d8da7",
   "metadata": {},
   "outputs": [
    {
     "data": {
      "text/plain": [
       "<matplotlib.image.AxesImage at 0x175b3e49b50>"
      ]
     },
     "execution_count": 18,
     "metadata": {},
     "output_type": "execute_result"
    },
    {
     "data": {
      "image/png": "[encoded data removed]",
      "text/plain": [
       "<Figure size 640x480 with 1 Axes>"
      ]
     },
     "metadata": {},
     "output_type": "display_data"
    }
   ],
   "source": [
    "plt.imshow(testlabel.numpy())"
   ]
  },
  {
   "cell_type": "markdown",
   "id": "a5171e2d-49af-4c05-b743-df7c716ee39b",
   "metadata": {
    "tags": []
   },
   "source": [
    "## Model Architecture"
   ]
  },
  {
   "cell_type": "code",
   "execution_count": 19,
   "id": "cc81a50a-abcc-44fb-a7f5-4df94c71cca9",
   "metadata": {},
   "outputs": [],
   "source": [
    "# https://www.kaggle.com/code/truthisneverlinear/attention-u-net-pytorch\n",
    "class ConvBlock(nn.Module):\n",
    "    def __init__(self, ch_in, ch_out):\n",
    "        super().__init__()\n",
    "        self.conv = nn.Sequential(\n",
    "                                  nn.Conv2d(ch_in, ch_out,\n",
    "                                            kernel_size=3, stride=1,\n",
    "                                            padding=1, bias=True),\n",
    "                                  nn.BatchNorm2d(ch_out),\n",
    "                                  nn.ReLU(inplace=True),\n",
    "                                  nn.Conv2d(ch_out, ch_out,\n",
    "                                            kernel_size=3, stride=1,\n",
    "                                            padding=1, bias=True),\n",
    "                                  nn.BatchNorm2d(ch_out),\n",
    "                                  nn.ReLU(inplace=True),\n",
    "        )\n",
    "        \n",
    "    def forward(self, x):\n",
    "        x = self.conv(x)\n",
    "        return x\n",
    "    \n",
    "class UpConvBlock(nn.Module):\n",
    "    def __init__(self, ch_in, ch_out):\n",
    "        super().__init__()\n",
    "        self.up = nn.Sequential(\n",
    "                                nn.Upsample(scale_factor=2),\n",
    "                                nn.Conv2d(ch_in, ch_out,\n",
    "                                         kernel_size=3,stride=1,\n",
    "                                         padding=1, bias=True),\n",
    "                                nn.BatchNorm2d(ch_out),\n",
    "                                nn.ReLU(inplace=True),\n",
    "        )\n",
    "        \n",
    "    def forward(self, x):\n",
    "        x = x = self.up(x)\n",
    "        return x\n",
    "\n",
    "class AttentionBlock(nn.Module):\n",
    "    def __init__(self, f_g, f_l, f_int):\n",
    "        super().__init__()\n",
    "        \n",
    "        self.w_g = nn.Sequential(\n",
    "                                nn.Conv2d(f_g, f_int,\n",
    "                                         kernel_size=1, stride=1,\n",
    "                                         padding=0, bias=True),\n",
    "                                nn.BatchNorm2d(f_int)\n",
    "        )\n",
    "        \n",
    "        self.w_x = nn.Sequential(\n",
    "                                nn.Conv2d(f_l, f_int,\n",
    "                                         kernel_size=1, stride=1,\n",
    "                                         padding=0, bias=True),\n",
    "                                nn.BatchNorm2d(f_int)\n",
    "        )\n",
    "        \n",
    "        self.psi = nn.Sequential(\n",
    "                                nn.Conv2d(f_int, 1,\n",
    "                                         kernel_size=1, stride=1,\n",
    "                                         padding=0,  bias=True),\n",
    "                                nn.BatchNorm2d(1),\n",
    "                                nn.Sigmoid(),\n",
    "        )\n",
    "        \n",
    "        self.relu = nn.ReLU(inplace=True)\n",
    "        \n",
    "    def forward(self, g, x):\n",
    "        g1 = self.w_g(g)\n",
    "        x1 = self.w_x(x)\n",
    "        psi = self.relu(g1+x1)\n",
    "        psi = self.psi(psi)\n",
    "        \n",
    "        return psi*x"
   ]
  },
  {
   "cell_type": "code",
   "execution_count": 20,
   "id": "c792b73a-c37e-4336-bfd3-f4d8735e7f02",
   "metadata": {},
   "outputs": [],
   "source": [
    "class AttentionUNet(nn.Module):\n",
    "    def __init__(self, n_classes=1, in_channel=3, out_channel=1):\n",
    "        super().__init__() \n",
    "        \n",
    "        self.maxpool = nn.MaxPool2d(kernel_size=2, stride=2)\n",
    "        \n",
    "        self.conv1 = ConvBlock(ch_in=in_channel, ch_out=64)\n",
    "        self.conv2 = ConvBlock(ch_in=64, ch_out=128)\n",
    "        self.conv3 = ConvBlock(ch_in=128, ch_out=256)\n",
    "        self.conv4 = ConvBlock(ch_in=256, ch_out=512)\n",
    "        self.conv5 = ConvBlock(ch_in=512, ch_out=1024)\n",
    "        \n",
    "        self.up5 = UpConvBlock(ch_in=1024, ch_out=512)\n",
    "        self.att5 = AttentionBlock(f_g=512, f_l=512, f_int=256)\n",
    "        self.upconv5 = ConvBlock(ch_in=1024, ch_out=512)\n",
    "        \n",
    "        self.up4 = UpConvBlock(ch_in=512, ch_out=256)\n",
    "        self.att4 = AttentionBlock(f_g=256, f_l=256, f_int=128)\n",
    "        self.upconv4 = ConvBlock(ch_in=512, ch_out=256)\n",
    "        \n",
    "        self.up3 = UpConvBlock(ch_in=256, ch_out=128)\n",
    "        self.att3 = AttentionBlock(f_g=128, f_l=128, f_int=64)\n",
    "        self.upconv3 = ConvBlock(ch_in=256, ch_out=128)\n",
    "        \n",
    "        self.up2 = UpConvBlock(ch_in=128, ch_out=64)\n",
    "        self.att2 = AttentionBlock(f_g=64, f_l=64, f_int=32)\n",
    "        self.upconv2 = ConvBlock(ch_in=128, ch_out=64)\n",
    "        \n",
    "        self.conv_1x1 = nn.Conv2d(64, out_channel,\n",
    "                                  kernel_size=1, stride=1, padding=0)\n",
    "        self.relu = nn.ReLU()\n",
    "        \n",
    "    def forward(self, x):\n",
    "        # encoder\n",
    "        x1 = self.conv1(x)\n",
    "        \n",
    "        x2 = self.maxpool(x1)\n",
    "        x2 = self.conv2(x2)\n",
    "        \n",
    "        x3 = self.maxpool(x2)\n",
    "        x3 = self.conv3(x3)\n",
    "        \n",
    "        x4 = self.maxpool(x3)\n",
    "        x4 = self.conv4(x4)\n",
    "        \n",
    "        x5 = self.maxpool(x4)\n",
    "        x5 = self.conv5(x5)\n",
    "        \n",
    "        # decoder + concat\n",
    "        d5 = self.up5(x5)\n",
    "        x4 = self.att5(g=d5, x=x4)\n",
    "        d5 = torch.concat((x4, d5), dim=1)\n",
    "        d5 = self.upconv5(d5)\n",
    "        \n",
    "        d4 = self.up4(d5)\n",
    "        x3 = self.att4(g=d4, x=x3)\n",
    "        d4 = torch.concat((x3, d4), dim=1)\n",
    "        d4 = self.upconv4(d4)\n",
    "        \n",
    "        d3 = self.up3(d4)\n",
    "        x2 = self.att3(g=d3, x=x2)\n",
    "        d3 = torch.concat((x2, d3), dim=1)\n",
    "        d3 = self.upconv3(d3)\n",
    "        \n",
    "        d2 = self.up2(d3)\n",
    "        x1 = self.att2(g=d2, x=x1)\n",
    "        d2 = torch.concat((x1, d2), dim=1)\n",
    "        d2 = self.upconv2(d2)\n",
    "        \n",
    "        d1 = self.conv_1x1(d2)\n",
    "        \n",
    "        return d1"
   ]
  },
  {
   "cell_type": "code",
   "execution_count": 21,
   "id": "4d805e69-a93c-40a4-9a5c-9f2e44cc7d5c",
   "metadata": {},
   "outputs": [],
   "source": [
    "model = AttentionUNet(in_channel=4).cuda()"
   ]
  },
  {
   "cell_type": "code",
   "execution_count": 22,
   "id": "3efc9634-9e29-4ad7-a4a7-6a9bb061eb26",
   "metadata": {},
   "outputs": [],
   "source": [
    "# Check if CUDA is available\n",
    "if torch.cuda.is_available():\n",
    "    device = torch.device('cuda')  # Move to GPU\n",
    "else:\n",
    "    device = torch.device('cpu')  # Stay on CPU\n",
    "model = model.to(device)"
   ]
  },
  {
   "cell_type": "code",
   "execution_count": 23,
   "id": "ccd46a31-c08b-4adc-a0d5-1cd5bd126a5a",
   "metadata": {},
   "outputs": [
    {
     "data": {
      "text/plain": [
       "==========================================================================================\n",
       "Layer (type:depth-idx)                   Output Shape              Param #\n",
       "==========================================================================================\n",
       "AttentionUNet                            [1, 1, 64, 64]            --\n",
       "├─ConvBlock: 1-1                         [1, 64, 64, 64]           --\n",
       "│    └─Sequential: 2-1                   [1, 64, 64, 64]           --\n",
       "│    │    └─Conv2d: 3-1                  [1, 64, 64, 64]           2,368\n",
       "│    │    └─BatchNorm2d: 3-2             [1, 64, 64, 64]           128\n",
       "│    │    └─ReLU: 3-3                    [1, 64, 64, 64]           --\n",
       "│    │    └─Conv2d: 3-4                  [1, 64, 64, 64]           36,928\n",
       "│    │    └─BatchNorm2d: 3-5             [1, 64, 64, 64]           128\n",
       "│    │    └─ReLU: 3-6                    [1, 64, 64, 64]           --\n",
       "├─MaxPool2d: 1-2                         [1, 64, 32, 32]           --\n",
       "├─ConvBlock: 1-3                         [1, 128, 32, 32]          --\n",
       "│    └─Sequential: 2-2                   [1, 128, 32, 32]          --\n",
       "│    │    └─Conv2d: 3-7                  [1, 128, 32, 32]          73,856\n",
       "│    │    └─BatchNorm2d: 3-8             [1, 128, 32, 32]          256\n",
       "│    │    └─ReLU: 3-9                    [1, 128, 32, 32]          --\n",
       "│    │    └─Conv2d: 3-10                 [1, 128, 32, 32]          147,584\n",
       "│    │    └─BatchNorm2d: 3-11            [1, 128, 32, 32]          256\n",
       "│    │    └─ReLU: 3-12                   [1, 128, 32, 32]          --\n",
       "├─MaxPool2d: 1-4                         [1, 128, 16, 16]          --\n",
       "├─ConvBlock: 1-5                         [1, 256, 16, 16]          --\n",
       "│    └─Sequential: 2-3                   [1, 256, 16, 16]          --\n",
       "│    │    └─Conv2d: 3-13                 [1, 256, 16, 16]          295,168\n",
       "│    │    └─BatchNorm2d: 3-14            [1, 256, 16, 16]          512\n",
       "│    │    └─ReLU: 3-15                   [1, 256, 16, 16]          --\n",
       "│    │    └─Conv2d: 3-16                 [1, 256, 16, 16]          590,080\n",
       "│    │    └─BatchNorm2d: 3-17            [1, 256, 16, 16]          512\n",
       "│    │    └─ReLU: 3-18                   [1, 256, 16, 16]          --\n",
       "├─MaxPool2d: 1-6                         [1, 256, 8, 8]            --\n",
       "├─ConvBlock: 1-7                         [1, 512, 8, 8]            --\n",
       "│    └─Sequential: 2-4                   [1, 512, 8, 8]            --\n",
       "│    │    └─Conv2d: 3-19                 [1, 512, 8, 8]            1,180,160\n",
       "│    │    └─BatchNorm2d: 3-20            [1, 512, 8, 8]            1,024\n",
       "│    │    └─ReLU: 3-21                   [1, 512, 8, 8]            --\n",
       "│    │    └─Conv2d: 3-22                 [1, 512, 8, 8]            2,359,808\n",
       "│    │    └─BatchNorm2d: 3-23            [1, 512, 8, 8]            1,024\n",
       "│    │    └─ReLU: 3-24                   [1, 512, 8, 8]            --\n",
       "├─MaxPool2d: 1-8                         [1, 512, 4, 4]            --\n",
       "├─ConvBlock: 1-9                         [1, 1024, 4, 4]           --\n",
       "│    └─Sequential: 2-5                   [1, 1024, 4, 4]           --\n",
       "│    │    └─Conv2d: 3-25                 [1, 1024, 4, 4]           4,719,616\n",
       "│    │    └─BatchNorm2d: 3-26            [1, 1024, 4, 4]           2,048\n",
       "│    │    └─ReLU: 3-27                   [1, 1024, 4, 4]           --\n",
       "│    │    └─Conv2d: 3-28                 [1, 1024, 4, 4]           9,438,208\n",
       "│    │    └─BatchNorm2d: 3-29            [1, 1024, 4, 4]           2,048\n",
       "│    │    └─ReLU: 3-30                   [1, 1024, 4, 4]           --\n",
       "├─UpConvBlock: 1-10                      [1, 512, 8, 8]            --\n",
       "│    └─Sequential: 2-6                   [1, 512, 8, 8]            --\n",
       "│    │    └─Upsample: 3-31               [1, 1024, 8, 8]           --\n",
       "│    │    └─Conv2d: 3-32                 [1, 512, 8, 8]            4,719,104\n",
       "│    │    └─BatchNorm2d: 3-33            [1, 512, 8, 8]            1,024\n",
       "│    │    └─ReLU: 3-34                   [1, 512, 8, 8]            --\n",
       "├─AttentionBlock: 1-11                   [1, 512, 8, 8]            --\n",
       "│    └─Sequential: 2-7                   [1, 256, 8, 8]            --\n",
       "│    │    └─Conv2d: 3-35                 [1, 256, 8, 8]            131,328\n",
       "│    │    └─BatchNorm2d: 3-36            [1, 256, 8, 8]            512\n",
       "│    └─Sequential: 2-8                   [1, 256, 8, 8]            --\n",
       "│    │    └─Conv2d: 3-37                 [1, 256, 8, 8]            131,328\n",
       "│    │    └─BatchNorm2d: 3-38            [1, 256, 8, 8]            512\n",
       "│    └─ReLU: 2-9                         [1, 256, 8, 8]            --\n",
       "│    └─Sequential: 2-10                  [1, 1, 8, 8]              --\n",
       "│    │    └─Conv2d: 3-39                 [1, 1, 8, 8]              257\n",
       "│    │    └─BatchNorm2d: 3-40            [1, 1, 8, 8]              2\n",
       "│    │    └─Sigmoid: 3-41                [1, 1, 8, 8]              --\n",
       "├─ConvBlock: 1-12                        [1, 512, 8, 8]            --\n",
       "│    └─Sequential: 2-11                  [1, 512, 8, 8]            --\n",
       "│    │    └─Conv2d: 3-42                 [1, 512, 8, 8]            4,719,104\n",
       "│    │    └─BatchNorm2d: 3-43            [1, 512, 8, 8]            1,024\n",
       "│    │    └─ReLU: 3-44                   [1, 512, 8, 8]            --\n",
       "│    │    └─Conv2d: 3-45                 [1, 512, 8, 8]            2,359,808\n",
       "│    │    └─BatchNorm2d: 3-46            [1, 512, 8, 8]            1,024\n",
       "│    │    └─ReLU: 3-47                   [1, 512, 8, 8]            --\n",
       "├─UpConvBlock: 1-13                      [1, 256, 16, 16]          --\n",
       "│    └─Sequential: 2-12                  [1, 256, 16, 16]          --\n",
       "│    │    └─Upsample: 3-48               [1, 512, 16, 16]          --\n",
       "│    │    └─Conv2d: 3-49                 [1, 256, 16, 16]          1,179,904\n",
       "│    │    └─BatchNorm2d: 3-50            [1, 256, 16, 16]          512\n",
       "│    │    └─ReLU: 3-51                   [1, 256, 16, 16]          --\n",
       "├─AttentionBlock: 1-14                   [1, 256, 16, 16]          --\n",
       "│    └─Sequential: 2-13                  [1, 128, 16, 16]          --\n",
       "│    │    └─Conv2d: 3-52                 [1, 128, 16, 16]          32,896\n",
       "│    │    └─BatchNorm2d: 3-53            [1, 128, 16, 16]          256\n",
       "│    └─Sequential: 2-14                  [1, 128, 16, 16]          --\n",
       "│    │    └─Conv2d: 3-54                 [1, 128, 16, 16]          32,896\n",
       "│    │    └─BatchNorm2d: 3-55            [1, 128, 16, 16]          256\n",
       "│    └─ReLU: 2-15                        [1, 128, 16, 16]          --\n",
       "│    └─Sequential: 2-16                  [1, 1, 16, 16]            --\n",
       "│    │    └─Conv2d: 3-56                 [1, 1, 16, 16]            129\n",
       "│    │    └─BatchNorm2d: 3-57            [1, 1, 16, 16]            2\n",
       "│    │    └─Sigmoid: 3-58                [1, 1, 16, 16]            --\n",
       "├─ConvBlock: 1-15                        [1, 256, 16, 16]          --\n",
       "│    └─Sequential: 2-17                  [1, 256, 16, 16]          --\n",
       "│    │    └─Conv2d: 3-59                 [1, 256, 16, 16]          1,179,904\n",
       "│    │    └─BatchNorm2d: 3-60            [1, 256, 16, 16]          512\n",
       "│    │    └─ReLU: 3-61                   [1, 256, 16, 16]          --\n",
       "│    │    └─Conv2d: 3-62                 [1, 256, 16, 16]          590,080\n",
       "│    │    └─BatchNorm2d: 3-63            [1, 256, 16, 16]          512\n",
       "│    │    └─ReLU: 3-64                   [1, 256, 16, 16]          --\n",
       "├─UpConvBlock: 1-16                      [1, 128, 32, 32]          --\n",
       "│    └─Sequential: 2-18                  [1, 128, 32, 32]          --\n",
       "│    │    └─Upsample: 3-65               [1, 256, 32, 32]          --\n",
       "│    │    └─Conv2d: 3-66                 [1, 128, 32, 32]          295,040\n",
       "│    │    └─BatchNorm2d: 3-67            [1, 128, 32, 32]          256\n",
       "│    │    └─ReLU: 3-68                   [1, 128, 32, 32]          --\n",
       "├─AttentionBlock: 1-17                   [1, 128, 32, 32]          --\n",
       "│    └─Sequential: 2-19                  [1, 64, 32, 32]           --\n",
       "│    │    └─Conv2d: 3-69                 [1, 64, 32, 32]           8,256\n",
       "│    │    └─BatchNorm2d: 3-70            [1, 64, 32, 32]           128\n",
       "│    └─Sequential: 2-20                  [1, 64, 32, 32]           --\n",
       "│    │    └─Conv2d: 3-71                 [1, 64, 32, 32]           8,256\n",
       "│    │    └─BatchNorm2d: 3-72            [1, 64, 32, 32]           128\n",
       "│    └─ReLU: 2-21                        [1, 64, 32, 32]           --\n",
       "│    └─Sequential: 2-22                  [1, 1, 32, 32]            --\n",
       "│    │    └─Conv2d: 3-73                 [1, 1, 32, 32]            65\n",
       "│    │    └─BatchNorm2d: 3-74            [1, 1, 32, 32]            2\n",
       "│    │    └─Sigmoid: 3-75                [1, 1, 32, 32]            --\n",
       "├─ConvBlock: 1-18                        [1, 128, 32, 32]          --\n",
       "│    └─Sequential: 2-23                  [1, 128, 32, 32]          --\n",
       "│    │    └─Conv2d: 3-76                 [1, 128, 32, 32]          295,040\n",
       "│    │    └─BatchNorm2d: 3-77            [1, 128, 32, 32]          256\n",
       "│    │    └─ReLU: 3-78                   [1, 128, 32, 32]          --\n",
       "│    │    └─Conv2d: 3-79                 [1, 128, 32, 32]          147,584\n",
       "│    │    └─BatchNorm2d: 3-80            [1, 128, 32, 32]          256\n",
       "│    │    └─ReLU: 3-81                   [1, 128, 32, 32]          --\n",
       "├─UpConvBlock: 1-19                      [1, 64, 64, 64]           --\n",
       "│    └─Sequential: 2-24                  [1, 64, 64, 64]           --\n",
       "│    │    └─Upsample: 3-82               [1, 128, 64, 64]          --\n",
       "│    │    └─Conv2d: 3-83                 [1, 64, 64, 64]           73,792\n",
       "│    │    └─BatchNorm2d: 3-84            [1, 64, 64, 64]           128\n",
       "│    │    └─ReLU: 3-85                   [1, 64, 64, 64]           --\n",
       "├─AttentionBlock: 1-20                   [1, 64, 64, 64]           --\n",
       "│    └─Sequential: 2-25                  [1, 32, 64, 64]           --\n",
       "│    │    └─Conv2d: 3-86                 [1, 32, 64, 64]           2,080\n",
       "│    │    └─BatchNorm2d: 3-87            [1, 32, 64, 64]           64\n",
       "│    └─Sequential: 2-26                  [1, 32, 64, 64]           --\n",
       "│    │    └─Conv2d: 3-88                 [1, 32, 64, 64]           2,080\n",
       "│    │    └─BatchNorm2d: 3-89            [1, 32, 64, 64]           64\n",
       "│    └─ReLU: 2-27                        [1, 32, 64, 64]           --\n",
       "│    └─Sequential: 2-28                  [1, 1, 64, 64]            --\n",
       "│    │    └─Conv2d: 3-90                 [1, 1, 64, 64]            33\n",
       "│    │    └─BatchNorm2d: 3-91            [1, 1, 64, 64]            2\n",
       "│    │    └─Sigmoid: 3-92                [1, 1, 64, 64]            --\n",
       "├─ConvBlock: 1-21                        [1, 64, 64, 64]           --\n",
       "│    └─Sequential: 2-29                  [1, 64, 64, 64]           --\n",
       "│    │    └─Conv2d: 3-93                 [1, 64, 64, 64]           73,792\n",
       "│    │    └─BatchNorm2d: 3-94            [1, 64, 64, 64]           128\n",
       "│    │    └─ReLU: 3-95                   [1, 64, 64, 64]           --\n",
       "│    │    └─Conv2d: 3-96                 [1, 64, 64, 64]           36,928\n",
       "│    │    └─BatchNorm2d: 3-97            [1, 64, 64, 64]           128\n",
       "│    │    └─ReLU: 3-98                   [1, 64, 64, 64]           --\n",
       "├─Conv2d: 1-22                           [1, 1, 64, 64]            65\n",
       "==========================================================================================\n",
       "Total params: 34,879,149\n",
       "Trainable params: 34,879,149\n",
       "Non-trainable params: 0\n",
       "Total mult-adds (G): 4.16\n",
       "==========================================================================================\n",
       "Input size (MB): 0.07\n",
       "Forward/backward pass size (MB): 47.83\n",
       "Params size (MB): 139.52\n",
       "Estimated Total Size (MB): 187.41\n",
       "=========================================================================================="
      ]
     },
     "execution_count": 23,
     "metadata": {},
     "output_type": "execute_result"
    }
   ],
   "source": [
    "summary(model, input_size=(1, 4, 64, 64))"
   ]
  },
  {
   "cell_type": "markdown",
   "id": "f7518613-fc7e-47f8-ab02-1e947927873b",
   "metadata": {},
   "source": [
    "## Training"
   ]
  },
  {
   "cell_type": "code",
   "execution_count": 24,
   "id": "4eca5f2a-f598-491e-aeb1-296c22f6160a",
   "metadata": {},
   "outputs": [],
   "source": [
    "optimizer = optim.Adam(model.parameters(), lr=learning_rate)"
   ]
  },
  {
   "cell_type": "code",
   "execution_count": 25,
   "id": "ddd7ee6d-93d6-4550-a763-bc7a094d2339",
   "metadata": {},
   "outputs": [],
   "source": [
    "scheduler = ReduceLROnPlateau(optimizer, mode='min', patience=3, factor=0.1, verbose=True)"
   ]
  },
  {
   "cell_type": "code",
   "execution_count": 26,
   "id": "7bcb8a95-9f6e-48d2-8178-c99c2f9ead0f",
   "metadata": {},
   "outputs": [],
   "source": [
    "#use custom SSIM Loss + L1 Mae Loss\n",
    "class SSIM_Loss(SSIM):\n",
    "    def forward(self, img1, img2):\n",
    "        return 100*( 1 - super(SSIM_Loss, self).forward(img1, img2) )"
   ]
  },
  {
   "cell_type": "code",
   "execution_count": 27,
   "id": "e5cd5669-a6a7-4126-bcdc-89a81088583c",
   "metadata": {},
   "outputs": [],
   "source": [
    "criterion1 = SSIM_Loss(data_range=1.0, size_average=True, channel=1)"
   ]
  },
  {
   "cell_type": "code",
   "execution_count": 28,
   "id": "c44a69ba-1608-4e9b-9041-c426ba752762",
   "metadata": {},
   "outputs": [],
   "source": [
    "criterion2 = nn.L1Loss()"
   ]
  },
  {
   "cell_type": "code",
   "execution_count": 29,
   "id": "a97237f3-28ff-46d8-9160-942204d1c23d",
   "metadata": {},
   "outputs": [
    {
     "name": "stderr",
     "output_type": "stream",
     "text": [
      "100%|██████████████████████████████████████████████████████████████████████████████████| 54/54 [00:05<00:00, 10.60it/s]\n"
     ]
    },
    {
     "name": "stdout",
     "output_type": "stream",
     "text": [
      "Epoch 0, Training Loss: 0.9787588196772116, Validation Loss: 25.97132361376727\n"
     ]
    },
    {
     "name": "stderr",
     "output_type": "stream",
     "text": [
      "100%|██████████████████████████████████████████████████████████████████████████████████| 54/54 [00:04<00:00, 11.61it/s]\n"
     ]
    },
    {
     "name": "stdout",
     "output_type": "stream",
     "text": [
      "Epoch 1, Training Loss: 0.12822268351360602, Validation Loss: 5.79659484050892\n"
     ]
    },
    {
     "name": "stderr",
     "output_type": "stream",
     "text": [
      "100%|██████████████████████████████████████████████████████████████████████████████████| 54/54 [00:04<00:00, 11.56it/s]\n"
     ]
    },
    {
     "name": "stdout",
     "output_type": "stream",
     "text": [
      "Epoch 2, Training Loss: 0.056341241079348105, Validation Loss: 1.8016520451616358\n"
     ]
    },
    {
     "name": "stderr",
     "output_type": "stream",
     "text": [
      "100%|██████████████████████████████████████████████████████████████████████████████████| 54/54 [00:04<00:00, 11.50it/s]\n"
     ]
    },
    {
     "name": "stdout",
     "output_type": "stream",
     "text": [
      "Epoch 3, Training Loss: 0.040286362550600814, Validation Loss: 1.0692217570764047\n"
     ]
    },
    {
     "name": "stderr",
     "output_type": "stream",
     "text": [
      "100%|██████████████████████████████████████████████████████████████████████████████████| 54/54 [00:04<00:00, 11.47it/s]\n"
     ]
    },
    {
     "name": "stdout",
     "output_type": "stream",
     "text": [
      "Epoch 4, Training Loss: 0.031451175161809834, Validation Loss: 1.5148744114019252\n"
     ]
    },
    {
     "name": "stderr",
     "output_type": "stream",
     "text": [
      "100%|██████████████████████████████████████████████████████████████████████████████████| 54/54 [00:04<00:00, 11.46it/s]\n"
     ]
    },
    {
     "name": "stdout",
     "output_type": "stream",
     "text": [
      "Epoch 5, Training Loss: 0.024198955442342494, Validation Loss: 6.633448000307436\n"
     ]
    },
    {
     "name": "stderr",
     "output_type": "stream",
     "text": [
      "100%|██████████████████████████████████████████████████████████████████████████████████| 54/54 [00:04<00:00, 11.46it/s]\n"
     ]
    },
    {
     "name": "stdout",
     "output_type": "stream",
     "text": [
      "Epoch 6, Training Loss: 0.02486120367905608, Validation Loss: 1.2695008924713842\n"
     ]
    },
    {
     "name": "stderr",
     "output_type": "stream",
     "text": [
      "100%|██████████████████████████████████████████████████████████████████████████████████| 54/54 [00:04<00:00, 11.49it/s]\n"
     ]
    },
    {
     "name": "stdout",
     "output_type": "stream",
     "text": [
      "Epoch 7, Training Loss: 0.026189590942252566, Validation Loss: 3.4628552198410034\n"
     ]
    },
    {
     "name": "stderr",
     "output_type": "stream",
     "text": [
      "100%|██████████████████████████████████████████████████████████████████████████████████| 54/54 [00:04<00:00, 11.47it/s]\n"
     ]
    },
    {
     "name": "stdout",
     "output_type": "stream",
     "text": [
      "Epoch 00009: reducing learning rate of group 0 to 1.0000e-04.\n",
      "Epoch 8, Training Loss: 0.022479424942974693, Validation Loss: 1.5226128233803644\n"
     ]
    },
    {
     "name": "stderr",
     "output_type": "stream",
     "text": [
      "100%|██████████████████████████████████████████████████████████████████████████████████| 54/54 [00:04<00:00, 11.42it/s]\n"
     ]
    },
    {
     "name": "stdout",
     "output_type": "stream",
     "text": [
      "Epoch 9, Training Loss: 0.013306605362298864, Validation Loss: 0.026240930099178245\n",
      "Finished Training\n"
     ]
    }
   ],
   "source": [
    "# Training loop\n",
    "val_loss_old = 999999\n",
    "train_loss_hist = []\n",
    "val_loss_hist = []\n",
    "for epoch in range(n_epoch):  # Number of epochs\n",
    "    \n",
    "    model.train()\n",
    "    train_loss = 0.0\n",
    "    for i, (x,y) in enumerate(tqdm(trainloader)):\n",
    "        x = x.to(device)\n",
    "        y = y.to(device)\n",
    "        optimizer.zero_grad()\n",
    "        outputs = model(x)\n",
    "        loss = criterion1(outputs, y.unsqueeze(1))*0 + criterion2(outputs, y.unsqueeze(1))*1\n",
    "        train_loss += loss.item()\n",
    "        loss.backward()\n",
    "        optimizer.step()\n",
    "        \n",
    "    model.eval()  # Set the model to evaluation mode\n",
    "    with torch.no_grad():\n",
    "        validation_loss = 0.0\n",
    "        for i, (x,y) in enumerate(testloader):        \n",
    "            x = x.to(device)\n",
    "            y = y.to(device)        \n",
    "            outputs = model(x)\n",
    "            loss = criterion1(outputs, y.unsqueeze(1))*0.5 + criterion2(outputs, y.unsqueeze(1))*0.5\n",
    "            validation_loss += loss.item()\n",
    "        scheduler.step(loss.item())  # Update learning rate scheduler based on validation loss\n",
    "        \n",
    "    if validation_loss < val_loss_old:\n",
    "        val_loss_old = validation_loss\n",
    "        torch.save(model.state_dict(), 'best_mt2d_model.pth')\n",
    "        \n",
    "    train_loss_hist.append(train_loss / len(trainloader))\n",
    "    val_loss_hist.append(validation_loss / len(testloader))\n",
    "    \n",
    "    if epoch % 1 == 0:  # Print loss every 2 epochs\n",
    "        print(f'Epoch {epoch}, Training Loss: {train_loss_hist[-1]}, Validation Loss: {val_loss_hist[-1]}')\n",
    "\n",
    "print('Finished Training')"
   ]
  },
  {
   "cell_type": "code",
   "execution_count": 30,
   "id": "e412be0c-8a7d-4231-8c8a-fc12a40872df",
   "metadata": {},
   "outputs": [
    {
     "data": {
      "text/plain": [
       "tensor(-3.1408, device='cuda:0')"
      ]
     },
     "execution_count": 30,
     "metadata": {},
     "output_type": "execute_result"
    }
   ],
   "source": [
    "x.min()"
   ]
  },
  {
   "cell_type": "code",
   "execution_count": 31,
   "id": "307c2a00-354a-4748-a4f8-5ee06090f702",
   "metadata": {},
   "outputs": [
    {
     "data": {
      "text/plain": [
       "tensor(5.6716, device='cuda:0')"
      ]
     },
     "execution_count": 31,
     "metadata": {},
     "output_type": "execute_result"
    }
   ],
   "source": [
    "y.max()"
   ]
  },
  {
   "cell_type": "markdown",
   "id": "050cff1f-c3a9-4673-bd25-2334c18c5e75",
   "metadata": {},
   "source": [
    "## Prediction"
   ]
  },
  {
   "cell_type": "code",
   "execution_count": 32,
   "id": "fab35746-16ad-46ca-b29b-ee116c3ee313",
   "metadata": {},
   "outputs": [
    {
     "data": {
      "text/plain": [
       "<All keys matched successfully>"
      ]
     },
     "execution_count": 32,
     "metadata": {},
     "output_type": "execute_result"
    }
   ],
   "source": [
    "model.load_state_dict(torch.load('best_mt2d_model.pth')) # load best model"
   ]
  },
  {
   "cell_type": "markdown",
   "id": "66ed6b63-b3b3-4cc2-84c5-ff4e4e05e084",
   "metadata": {},
   "source": [
    "### Making Synthetic Data from Forward Modeller to Predict"
   ]
  },
  {
   "cell_type": "code",
   "execution_count": 33,
   "id": "9e38a685-d990-42e9-b218-0f2377e86509",
   "metadata": {},
   "outputs": [],
   "source": [
    "from MT2D import * \n",
    "from matplotlib.colors import LogNorm\n",
    "from scipy.ndimage import convolve"
   ]
  },
  {
   "cell_type": "code",
   "execution_count": 34,
   "id": "ef92579c-c00c-4b25-890a-d3a9484d0bf4",
   "metadata": {},
   "outputs": [],
   "source": [
    "alpha = 2.0 # smoothness of gaussian random field,the larger the more smooth;\n",
    "nza = 0 # number of air layer\n",
    "yy = 6e3    # lenght in left and right\n",
    "zz = 4e3    # depth\n",
    "size_b = 10 # nodes of expand domain\n",
    "size_k = 47 # nodes of kernel domain\n",
    "n_freq = 48  # number of frequency data generated\n",
    "alpha = 3.0\n",
    "mode = 'random' # if random, 下面是mean和std，if bounda, 是lower和upper\n",
    "set_1 = 100.0\n",
    "set_2 = 100.0"
   ]
  },
  {
   "cell_type": "code",
   "execution_count": 35,
   "id": "8a6a337e-d756-4ced-b794-24a2a9dcae0d",
   "metadata": {},
   "outputs": [],
   "source": [
    "def smooth_2d_array(arr, kernel_size=3):\n",
    "    '''\n",
    "    arr : 2D array input\n",
    "    kernel_size : a NxN kernel for smoothing using convolution\n",
    "    '''\n",
    "    # Define a kernel (e.g., a simple 3x3 averaging kernel)\n",
    "    kernel = np.ones((kernel_size, kernel_size)) / (kernel_size ** 2)\n",
    "    # Apply convolution to smooth the array\n",
    "    smoothed_array = convolve(arr, kernel, mode='nearest')\n",
    "\n",
    "    return smoothed_array"
   ]
  },
  {
   "cell_type": "code",
   "execution_count": 36,
   "id": "fa23d51c-5eeb-4bd3-b896-58ad19a7b429",
   "metadata": {},
   "outputs": [],
   "source": [
    "def generate_model(nza, y, z, size_b, size_k, n_freq, alpha = 3.0, mode='random', set_1=100.0, set_2=100.0):\n",
    "    '''\n",
    "    nza   : number of air layer\n",
    "    y     : [-y,y]\n",
    "    z     : [0,z]: \n",
    "    size_b: number of nodes from boundary to kernel domain\n",
    "    size_k: kernel domain,\n",
    "    n_freq: number of frequency\n",
    "    alpha : smoothness of gaussian random field,the larger the more smooth;\n",
    "    mode  : if random, 下面是mean和std，if bounda, 是lower和upper\n",
    "    '''\n",
    "    z_air = np.linspace(-z,0,nza+1)\n",
    "    zn0 = np.linspace(0, z, size_k+1)\n",
    "    z_b = np.linspace(zn0[-1],2*zn0[-1],size_b+1)\n",
    "    zn  = np.concatenate((z_air[:-1],zn0,z_b[1:]))\n",
    "\n",
    "    yn0 = np.linspace(-y,y,size_k+1)\n",
    "    y_l = np.linspace(2*yn0[0],yn0[0],size_b+1)\n",
    "    y_r = np.linspace(yn0[-1],2*yn0[-1],size_b+1)\n",
    "    yn  = np.concatenate((y_l[:-1],yn0,y_r[1:]))\n",
    "    \n",
    "    freq = np.logspace(3,-3,n_freq)\n",
    "    ry = np.linspace(-y,y,size_k+1)\n",
    "\n",
    "    sig = np.ones((size_b+size_k+nza,2*size_b+size_k))*1e-2\n",
    "    #sig[:nza,:] = 1e-9 # If you want to make an air layer, uncomment these & give parameter to nza\n",
    "    sig[:15,:] = 1\n",
    "    sig[15:25,:] = 10\n",
    "    sig[25:35,20:45]= 100\n",
    "    \n",
    "    return zn, yn, freq, ry, sig"
   ]
  },
  {
   "cell_type": "code",
   "execution_count": 37,
   "id": "6934cd3b-1450-439b-85ae-26b6f24b7e79",
   "metadata": {},
   "outputs": [],
   "source": [
    "zn, yn, freq, ry, sig = generate_model(nza, yy, zz, size_b, size_k, n_freq, alpha, mode, set_1, set_2)\n",
    "mtmodel = MT2DFD(nza, zn, yn, freq, ry, sig)\n",
    "sig = smooth_2d_array(sig, kernel_size=3)\n",
    "true_rhoxy, true_phsxy,Zxy,true_rhoyx,true_phsyx,Zyx  = mtmodel.mt2d(\"TETM\")"
   ]
  },
  {
   "cell_type": "markdown",
   "id": "30fd0389-b700-4b0d-becf-917d79021abf",
   "metadata": {},
   "source": [
    "### Model that we will predict"
   ]
  },
  {
   "cell_type": "code",
   "execution_count": 38,
   "id": "27b796be-4c3f-404f-b87f-f93a1126b88c",
   "metadata": {},
   "outputs": [
    {
     "data": {
      "image/png": "[encoded data removed]",
      "text/plain": [
       "<Figure size 1200x500 with 2 Axes>"
      ]
     },
     "metadata": {},
     "output_type": "display_data"
    }
   ],
   "source": [
    "yn0 = np.linspace(-yy,yy,size_k+1)\n",
    "zn0 = np.linspace(0, zz, size_k+1)\n",
    "fig = plt.figure(figsize=(12,5))\n",
    "ax = plt.subplot(1,1,1)\n",
    "h = ax.imshow(sig, interpolation='nearest', cmap='plasma', #norm=LogNorm(vmin=sig.min(), vmax=sig.max()),\n",
    "              extent=[yn0.min(), yn0.max(), zn0.min(), zn0.max()], \n",
    "              origin='lower', aspect='auto')\n",
    "ax.invert_yaxis()\n",
    "for y_position in yn0:\n",
    "    ax.scatter(y_position, zn.min(), color='black', marker='o', s=30, label='Measurement Location')\n",
    "ax.set_ylabel(\"Z (m)\")\n",
    "ax.set_xlabel(\"Y (m)\")\n",
    "fig.colorbar(h)\n",
    "plt.show()"
   ]
  },
  {
   "cell_type": "markdown",
   "id": "d296c4e2-88b2-4dc5-83ad-64c382a8904f",
   "metadata": {},
   "source": [
    "### testing data transformation"
   ]
  },
  {
   "cell_type": "code",
   "execution_count": 39,
   "id": "0cb4a4f8-61ef-4b3f-b2ea-eb0ce27083bd",
   "metadata": {},
   "outputs": [],
   "source": [
    "phase_min_value = -180\n",
    "phase_max_value = 180\n",
    "rhoxy = torch.from_numpy(true_rhoxy).unsqueeze(0)\n",
    "rhoyx = torch.from_numpy(true_rhoyx).unsqueeze(0)\n",
    "phasexy = torch.from_numpy(true_phsxy).unsqueeze(0)\n",
    "phaseyx = torch.from_numpy(true_phsyx).unsqueeze(0)\n",
    "rhoxy = torch.log(rhoxy)\n",
    "rhoyx = torch.log(rhoyx)\n",
    "phasexy = (phasexy - phase_min_value) / (phase_max_value - phase_min_value)\n",
    "phaseyx = (phaseyx - phase_min_value) / (phase_max_value - phase_min_value)\n",
    "        \n",
    "data = torch.vstack([rhoxy, rhoyx, phasexy, phaseyx]).float()\n",
    "data = F.interpolate(data.unsqueeze(0), size=(64, 64), mode='bilinear', align_corners=False).squeeze() #resize data & label to multiply of 8 for an easier way to modify model architecture later\n",
    "label = torch.from_numpy(np.log(sig))\n",
    "label = F.interpolate(label.unsqueeze(0).unsqueeze(0), size=(64, 64), mode='bilinear', align_corners=False).squeeze()"
   ]
  },
  {
   "cell_type": "markdown",
   "id": "9fb22a8e-0cb1-4c61-9a17-9cc93dfd9c55",
   "metadata": {},
   "source": [
    "### model prediction"
   ]
  },
  {
   "cell_type": "code",
   "execution_count": 40,
   "id": "704bb18b-6965-41cb-85c7-270c7a1d0529",
   "metadata": {},
   "outputs": [],
   "source": [
    "prediction = model(data.unsqueeze(0).cuda()) #need shape batch x channel x Z x Y"
   ]
  },
  {
   "cell_type": "code",
   "execution_count": 41,
   "id": "05c02965-662c-494b-bef6-876232d72353",
   "metadata": {},
   "outputs": [],
   "source": [
    "prediction = F.interpolate(prediction, size=(57, 67), mode='bilinear', align_corners=False).squeeze()"
   ]
  },
  {
   "cell_type": "code",
   "execution_count": 42,
   "id": "5b8fe7a7-cc51-43aa-a77b-7a8116d8ba74",
   "metadata": {},
   "outputs": [],
   "source": [
    "predlabel = prediction.detach().squeeze().cpu().numpy()"
   ]
  },
  {
   "cell_type": "code",
   "execution_count": 43,
   "id": "ba9fc173-c5bc-43bb-a912-05fe0e4ca567",
   "metadata": {},
   "outputs": [],
   "source": [
    "predlabel = np.exp(predlabel)"
   ]
  },
  {
   "cell_type": "markdown",
   "id": "d2d675b1-302a-4c93-97ed-4baa2b415c48",
   "metadata": {},
   "source": [
    "### prediction results"
   ]
  },
  {
   "cell_type": "code",
   "execution_count": 46,
   "id": "a0bbecde-f7c4-414d-b392-3f63962b81f3",
   "metadata": {},
   "outputs": [
    {
     "data": {
      "image/png": "[encoded data removed]",
      "text/plain": [
       "<Figure size 1200x500 with 2 Axes>"
      ]
     },
     "metadata": {},
     "output_type": "display_data"
    }
   ],
   "source": [
    "fig = plt.figure(figsize=(12,5))\n",
    "ax = plt.subplot(1,1,1)\n",
    "h = ax.imshow(predlabel, interpolation='nearest', cmap='plasma', #norm=LogNorm(vmin=predlabel.min(), vmax=predlabel.max()),\n",
    "              extent=[yn0.min(), yn0.max(), zn0.min(), zn0.max()], \n",
    "              origin='lower', aspect='auto')\n",
    "ax.invert_yaxis()\n",
    "for y_position in yn0:\n",
    "    ax.scatter(y_position, zn.min(), color='black', marker='o', s=30, label='Measurement Location')\n",
    "ax.set_ylabel(\"Z (m)\")\n",
    "ax.set_xlabel(\"Y (m)\")\n",
    "fig.colorbar(h)\n",
    "plt.show()"
   ]
  },
  {
   "cell_type": "markdown",
   "id": "773ad2df-39f6-46bb-a5d6-56dc47b699ad",
   "metadata": {},
   "source": [
    "### Forward Modelling Based on Model Predicted"
   ]
  },
  {
   "cell_type": "code",
   "execution_count": 47,
   "id": "f180a52f-a66d-436f-a161-1f83cd959548",
   "metadata": {},
   "outputs": [],
   "source": [
    "mtmodel = MT2DFD(nza, zn, yn, freq, ry, predlabel)\n",
    "pred_rhoxy, pred_phsxy, pred_Zxy, pred_rhoyx, pred_phsyx, pred_Zyx  = mtmodel.mt2d(\"TETM\")"
   ]
  },
  {
   "cell_type": "markdown",
   "id": "914c6915-3c0a-407c-90b3-de955bf3a0d8",
   "metadata": {},
   "source": [
    "## Prediction vs Forward Model Difference"
   ]
  },
  {
   "cell_type": "code",
   "execution_count": 48,
   "id": "0b57fd22-f898-4908-8538-c6242ce5bcdc",
   "metadata": {},
   "outputs": [
    {
     "data": {
      "image/png": "[encoded data removed]",
      "text/plain": [
       "<Figure size 1800x600 with 2 Axes>"
      ]
     },
     "metadata": {},
     "output_type": "display_data"
    }
   ],
   "source": [
    "measure_position = 24 #middle\n",
    "fig = plt.figure(figsize=(18,6))\n",
    "ax = plt.subplot(1,2,1)\n",
    "ax.plot(freq, true_rhoxy[:,measure_position], 'r--',label=\"true TE\")\n",
    "ax.plot(freq, true_rhoyx[:,measure_position], 'b--',label=\"true TM\")\n",
    "ax.plot(freq, pred_rhoxy[:,measure_position], 'rp',label=\"pred TE\")\n",
    "ax.plot(freq, pred_rhoyx[:,measure_position], 'bp',label=\"pred TM\")\n",
    "ax.set_xscale(\"log\")\n",
    "ax.set_yscale(\"log\")\n",
    "ax.set_xlabel(\"Frequency (Hz)\")\n",
    "ax.set_ylabel(\"App Resistivity (Ohmm)\")\n",
    "ax.invert_xaxis()\n",
    "ax.legend(loc='lower left',fontsize=12.5)\n",
    "ax = plt.subplot(1,2,2)\n",
    "ax.plot(freq, true_phsxy[:,measure_position], 'r-',label=\"true TE\")\n",
    "ax.plot(freq, true_phsyx[:,measure_position]-180, 'b-',label=\"true TM\")\n",
    "ax.plot(freq, pred_phsxy[:,measure_position], 'rp',label=\"pred TE\")\n",
    "ax.plot(freq, pred_phsyx[:,measure_position]-180, 'bp',label=\"pred TM\")\n",
    "ax.set_xscale(\"log\")\n",
    "ax.set_xlabel(\"Frequency (Hz)\")\n",
    "ax.set_ylabel(\"Phase (deg.)\")\n",
    "ax.invert_xaxis()\n",
    "ax.legend(loc='lower left',fontsize=12.5)\n",
    "plt.show()"
   ]
  },
  {
   "cell_type": "markdown",
   "id": "350a3efb-9312-413d-a4cb-a08ea95dbecf",
   "metadata": {},
   "source": [
    "As you can see, it's quite a match!\n",
    "\n",
    "Let's see model difference."
   ]
  },
  {
   "cell_type": "code",
   "execution_count": 49,
   "id": "2054e179-c0f3-4273-aedb-47826e2f3db7",
   "metadata": {},
   "outputs": [],
   "source": [
    "diff = sig-predlabel"
   ]
  },
  {
   "cell_type": "code",
   "execution_count": 65,
   "id": "fff27d9b-7a93-4132-953e-80570a8a9e4a",
   "metadata": {},
   "outputs": [
    {
     "data": {
      "image/png": "[encoded data removed]",
      "text/plain": [
       "<Figure size 1200x300 with 4 Axes>"
      ]
     },
     "metadata": {},
     "output_type": "display_data"
    }
   ],
   "source": [
    "fig = plt.figure(figsize=(12,3))\n",
    "\n",
    "ax = plt.subplot(1,3,1)\n",
    "ax.imshow(sig, interpolation='nearest', cmap='plasma', norm=LogNorm(vmin=sig.min(), vmax=sig.max()),\n",
    "              extent=[yn0.min(), yn0.max(), zn0.min(), zn0.max()], \n",
    "              origin='lower', aspect='auto')\n",
    "ax.invert_yaxis()\n",
    "ax.set_ylabel(\"Z (m)\")\n",
    "ax.set_xlabel(\"Y (m)\")\n",
    "ax.set_title('Model')\n",
    "\n",
    "ax = plt.subplot(1,3,2)\n",
    "ax.imshow(predlabel, interpolation='nearest', cmap='plasma', norm=LogNorm(vmin=predlabel.min(), vmax=predlabel.max()),\n",
    "              extent=[yn0.min(), yn0.max(), zn0.min(), zn0.max()], \n",
    "              origin='lower', aspect='auto')\n",
    "ax.invert_yaxis()\n",
    "ax.set_xlabel(\"Y (m)\")\n",
    "ax.set_yticklabels([]) \n",
    "ax.set_title('Prediction')\n",
    "\n",
    "ax = plt.subplot(1,3,3)\n",
    "h = ax.imshow(diff, interpolation='nearest', cmap='plasma', \n",
    "              extent=[yn0.min(), yn0.max(), zn0.min(), zn0.max()], \n",
    "              origin='lower', aspect='auto')\n",
    "ax.invert_yaxis()\n",
    "ax.set_xlabel(\"Y (m)\")\n",
    "ax.set_yticklabels([]) \n",
    "ax.set_title('Difference')\n",
    "\n",
    "fig.colorbar(h)\n",
    "plt.show()"
   ]
  },
  {
   "cell_type": "markdown",
   "id": "02e1fbf6-8ac0-42a5-b622-4237438af6cb",
   "metadata": {},
   "source": [
    "That's it."
   ]
  },
  {
   "cell_type": "code",
   "execution_count": null,
   "id": "ad512a72-53b8-4c25-a0ac-49530498833b",
   "metadata": {},
   "outputs": [],
   "source": []
  }
 ],
 "metadata": {
  "kernelspec": {
   "display_name": "Python 3 (ipykernel)",
   "language": "python",
   "name": "python3"
  },
  "language_info": {
   "codemirror_mode": {
    "name": "ipython",
    "version": 3
   },
   "file_extension": ".py",
   "mimetype": "text/x-python",
   "name": "python",
   "nbconvert_exporter": "python",
   "pygments_lexer": "ipython3",
   "version": "3.8.16"
  }
 },
 "nbformat": 4,
 "nbformat_minor": 5
}
